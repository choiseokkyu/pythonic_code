{
 "cells": [
  {
   "cell_type": "markdown",
   "metadata": {},
   "source": [
    "# Decorator"
   ]
  },
  {
   "cell_type": "markdown",
   "metadata": {},
   "source": [
    "## 기존의 클래스나 함수를 수정하지 않고 기능을 덧붙일 수 있는 역할"
   ]
  },
  {
   "cell_type": "code",
   "execution_count": 3,
   "metadata": {},
   "outputs": [
    {
     "name": "stdout",
     "output_type": "stream",
     "text": [
      "=== Run decorator ===\n",
      "before\n",
      "base function\n",
      "after\n"
     ]
    }
   ],
   "source": [
    "def deco(func):\n",
    "\n",
    "    def wrapper():\n",
    "        print (\"before\")\n",
    "        ret = func()\n",
    "        print (\"after\")\n",
    "        return ret\n",
    "\n",
    "    return wrapper\n",
    "\n",
    "#@deco\n",
    "def base():\n",
    "    print (\"base function\")\n",
    "\n",
    "\n",
    "\n",
    "print (\"=== Run decorator ===\")\n",
    "#base()\n",
    "argument =  base\n",
    "f = deco(argument)\n",
    "f()"
   ]
  },
  {
   "cell_type": "markdown",
   "metadata": {},
   "source": [
    "## 다중 Decorator"
   ]
  },
  {
   "cell_type": "code",
   "execution_count": 6,
   "metadata": {},
   "outputs": [
    {
     "name": "stdout",
     "output_type": "stream",
     "text": [
      "[2019-01-22 15:01] args : (5,), kwargs : {}\n",
      "'wrapper' function running time : 5.00518012046814\n"
     ]
    }
   ],
   "source": [
    "import time\n",
    "import datetime\n",
    "\n",
    "def measure_run_time(func):\n",
    "\n",
    "    def wrapper(*args, **kwargs):\n",
    "        start = time.time()\n",
    "        result = func(*args, **kwargs)\n",
    "        end = time.time()\n",
    "\n",
    "        print (\"'%s' function running time : %s\" % (func.__name__, end - start))\n",
    "        return result\n",
    "\n",
    "    return wrapper\n",
    "\n",
    "def parameter_logger(func):\n",
    "\n",
    "    def wrapper(*args, **kwargs):\n",
    "        timestamp = datetime.datetime.now().strftime(\"%Y-%m-%d %H:%M\")\n",
    "        print (\"[%s] args : %s, kwargs : %s\" % (timestamp, args, kwargs))\n",
    "        return func(*args, **kwargs)\n",
    "\n",
    "    return wrapper\n",
    "\n",
    "@measure_run_time\n",
    "@parameter_logger\n",
    "def worker(delay_time):\n",
    "    time.sleep(delay_time)\n",
    "\n",
    "\n",
    "worker(5)"
   ]
  },
  {
   "cell_type": "markdown",
   "metadata": {},
   "source": [
    " - 다음과 같이 풀어보면 measure_run_time의 argument가 worker함수가 아닌 parameter_logger의반환값 즉, wrapper함수임을 알 수 있다."
   ]
  },
  {
   "cell_type": "code",
   "execution_count": 19,
   "metadata": {},
   "outputs": [
    {
     "name": "stdout",
     "output_type": "stream",
     "text": [
      "[2019-01-22 15:24] args : (1,), kwargs : {}\n",
      "'wrapper' function running time : 1.0013411045074463\n",
      "<function worker at 0x7f96300a12f0>\n"
     ]
    }
   ],
   "source": [
    "import time\n",
    "import datetime\n",
    "\n",
    "def measure_run_time(func):\n",
    "\n",
    "    def wrapper(*args, **kwargs):\n",
    "        start = time.time()\n",
    "        result = func(*args, **kwargs)\n",
    "        end = time.time()\n",
    "\n",
    "        print (\"'%s' function running time : %s\" % (func.__name__, end - start))\n",
    "        return result\n",
    "\n",
    "    return wrapper\n",
    "\n",
    "def parameter_logger(func):\n",
    "\n",
    "    def wrapper(*args, **kwargs):\n",
    "        timestamp = datetime.datetime.now().strftime(\"%Y-%m-%d %H:%M\")\n",
    "        print (\"[%s] args : %s, kwargs : %s\" % (timestamp, args, kwargs))\n",
    "        return func(*args, **kwargs)\n",
    "\n",
    "    return wrapper\n",
    "\n",
    "def worker(delay_time):\n",
    "    time.sleep(delay_time)\n",
    "\n",
    "\n",
    "argument = worker\n",
    "f1 = parameter_logger(argument)\n",
    "f2 = measure_run_time(f1)\n",
    "\n",
    "f2(1)\n",
    "print(f1.__closure__[0].cell_contents)"
   ]
  },
  {
   "cell_type": "markdown",
   "metadata": {},
   "source": [
    "## @wraps\n",
    "- wrap를 써주면 wrapper함수가 아닌 메인함수의 속성을 알 수 있어 디버깅이 편하다."
   ]
  },
  {
   "cell_type": "code",
   "execution_count": 12,
   "metadata": {},
   "outputs": [
    {
     "name": "stdout",
     "output_type": "stream",
     "text": [
      "[2019-01-22 15:21] args : (5,), kwargs : {}\n",
      "'worker' function running time : 5.005084037780762\n"
     ]
    }
   ],
   "source": [
    "import time\n",
    "import datetime\n",
    "from functools import wraps\n",
    "\n",
    "def measure_run_time(func):\n",
    "\n",
    "    @wraps(func)\n",
    "    def wrapper(*args, **kwargs):\n",
    "        start = time.time()\n",
    "        result = func(*args, **kwargs)\n",
    "        end = time.time()\n",
    "\n",
    "        print (\"'%s' function running time : %s\" % (func.__name__, end - start))\n",
    "        return result\n",
    "\n",
    "    return wrapper\n",
    "\n",
    "def parameter_logger(func):\n",
    "\n",
    "    @wraps(func)\n",
    "    def wrapper(*args, **kwargs):\n",
    "        timestamp = datetime.datetime.now().strftime(\"%Y-%m-%d %H:%M\")\n",
    "        print (\"[%s] args : %s, kwargs : %s\" % (timestamp, args, kwargs))\n",
    "        return func(*args, **kwargs)\n",
    "\n",
    "    return wrapper\n",
    "\n",
    "@measure_run_time\n",
    "@parameter_logger\n",
    "def worker(delay_time):\n",
    "    time.sleep(delay_time)\n",
    "\n",
    "\n",
    "worker(5)"
   ]
  },
  {
   "cell_type": "markdown",
   "metadata": {},
   "source": [
    "## Class Decorator"
   ]
  },
  {
   "cell_type": "code",
   "execution_count": 28,
   "metadata": {},
   "outputs": [
    {
     "name": "stdout",
     "output_type": "stream",
     "text": [
      "'worker' function running time : 1.001089334487915\n"
     ]
    }
   ],
   "source": [
    "import time\n",
    "from functools import update_wrapper\n",
    "from functools import wraps\n",
    "\n",
    "class MeasureRuntime:\n",
    "\n",
    "    def __init__(self, f):\n",
    "        self.func = f\n",
    "        update_wrapper(self, self.func)\n",
    "\n",
    "    def __call__(self, *args, **kwargs):\n",
    "        start = time.time()\n",
    "        result = self.func(*args, **kwargs)\n",
    "        end = time.time()\n",
    "        print (\"'%s' function running time : %s\" % (self.func.__name__, end - start))\n",
    "        return result\n",
    "\n",
    "\n",
    "@MeasureRuntime\n",
    "def worker(delay_time):\n",
    "    time.sleep(delay_time)\n",
    "\n",
    "#f = MeasureRuntime(worker)\n",
    "#f(5)\n",
    "worker(1)"
   ]
  },
  {
   "cell_type": "markdown",
   "metadata": {},
   "source": [
    "# Iterable & Iterator"
   ]
  },
  {
   "cell_type": "markdown",
   "metadata": {},
   "source": [
    "- 외부함수 -> __init__ 함수\n",
    "- 내부함수 -> __call__ 함수"
   ]
  },
  {
   "cell_type": "code",
   "execution_count": 29,
   "metadata": {},
   "outputs": [
    {
     "name": "stdout",
     "output_type": "stream",
     "text": [
      "'active_worker' function running time : 5.005074977874756\n"
     ]
    }
   ],
   "source": [
    "import time\n",
    "from functools import wraps\n",
    "\n",
    "class MeasureRuntime:\n",
    "\n",
    "    def __init__(self, active_state):\n",
    "        self.measure_active = active_state\n",
    "\n",
    "    def __call__(self, func):\n",
    "\n",
    "        @wraps(func)\n",
    "        def wrapper(*args, **kwargs):\n",
    "            if self.measure_active is False:\n",
    "                return func(*args, **kwargs)\n",
    "\n",
    "            start = time.time()\n",
    "            result = func(*args, **kwargs)\n",
    "            end = time.time()\n",
    "            print (\"'%s' function running time : %s\" % (func.__name__, end - start))\n",
    "            return result\n",
    "\n",
    "        return wrapper\n",
    "\n",
    "\n",
    "@MeasureRuntime(True)\n",
    "def active_worker(delay_time):\n",
    "    time.sleep(delay_time)\n",
    "\n",
    "@MeasureRuntime(False)\n",
    "def non_active_worker(delay_time):\n",
    "    time.sleep(delay_time)\n",
    "\n",
    "    \n",
    "active_worker(5)\n",
    "non_active_worker(5)"
   ]
  },
  {
   "cell_type": "markdown",
   "metadata": {},
   "source": [
    "- iterable : 한번에 하나씩 반환할 수 있는 개체\n",
    "- iterator : 한번에 하나씩만 반환할 수 있는 개체"
   ]
  },
  {
   "cell_type": "code",
   "execution_count": 30,
   "metadata": {},
   "outputs": [],
   "source": [
    "nums = [1,2,3,4,5]"
   ]
  },
  {
   "cell_type": "code",
   "execution_count": 31,
   "metadata": {},
   "outputs": [
    {
     "ename": "TypeError",
     "evalue": "'list' object is not an iterator",
     "output_type": "error",
     "traceback": [
      "\u001b[0;31m---------------------------------------------------------------------------\u001b[0m",
      "\u001b[0;31mTypeError\u001b[0m                                 Traceback (most recent call last)",
      "\u001b[0;32m<ipython-input-31-65d62a8c3136>\u001b[0m in \u001b[0;36m<module>\u001b[0;34m\u001b[0m\n\u001b[0;32m----> 1\u001b[0;31m \u001b[0mnext\u001b[0m\u001b[0;34m(\u001b[0m\u001b[0mnums\u001b[0m\u001b[0;34m)\u001b[0m\u001b[0;34m\u001b[0m\u001b[0m\n\u001b[0m",
      "\u001b[0;31mTypeError\u001b[0m: 'list' object is not an iterator"
     ]
    }
   ],
   "source": [
    "next(nums)"
   ]
  },
  {
   "cell_type": "code",
   "execution_count": 62,
   "metadata": {},
   "outputs": [],
   "source": [
    "iter_nums = iter(nums)"
   ]
  },
  {
   "cell_type": "code",
   "execution_count": 63,
   "metadata": {},
   "outputs": [
    {
     "name": "stdout",
     "output_type": "stream",
     "text": [
      "1\n"
     ]
    }
   ],
   "source": [
    "print(next(iter_nums))"
   ]
  },
  {
   "cell_type": "markdown",
   "metadata": {},
   "source": [
    "- Iterator의 특징은 이미 반환한 상태와 어디서 부터 반환해야 할지의 상태를 가지고 있다는 것이다."
   ]
  },
  {
   "cell_type": "markdown",
   "metadata": {},
   "source": [
    "# Generator\n",
    "- Genrator iterator을 반환하는 함수이다.\n",
    "- Iterator는 값을 모두 연산한 뒤 하나씩 값을 반환하고, Generator iterator은 값을 반환할 때 연산을 수행한다.\n",
    "- yield 구문이 있어야 한다."
   ]
  },
  {
   "cell_type": "markdown",
   "metadata": {},
   "source": [
    "## yield\n",
    "- Generator에서 값을 반환하거나 값을 입력받는 기능\n",
    "- Generator에서 yield를 만나면 현재 상태 그대로 멈춘다."
   ]
  },
  {
   "cell_type": "code",
   "execution_count": 66,
   "metadata": {},
   "outputs": [
    {
     "name": "stdout",
     "output_type": "stream",
     "text": [
      "=== print gen function ===\n",
      "<generator object gen at 0x7f96300397d8>\n",
      "=== print normal function===\n",
      "1\n",
      "=== print gen function in loop ===\n",
      "1\n",
      "2\n",
      "3\n",
      "=== print normal function in loop ===\n"
     ]
    },
    {
     "ename": "TypeError",
     "evalue": "'int' object is not iterable",
     "output_type": "error",
     "traceback": [
      "\u001b[0;31m---------------------------------------------------------------------------\u001b[0m",
      "\u001b[0;31mTypeError\u001b[0m                                 Traceback (most recent call last)",
      "\u001b[0;32m<ipython-input-66-37e4bdd61365>\u001b[0m in \u001b[0;36m<module>\u001b[0;34m\u001b[0m\n\u001b[1;32m     26\u001b[0m \u001b[0;34m\u001b[0m\u001b[0m\n\u001b[1;32m     27\u001b[0m \u001b[0;34m\u001b[0m\u001b[0m\n\u001b[0;32m---> 28\u001b[0;31m \u001b[0mmain\u001b[0m\u001b[0;34m(\u001b[0m\u001b[0;34m)\u001b[0m\u001b[0;34m\u001b[0m\u001b[0m\n\u001b[0m",
      "\u001b[0;32m<ipython-input-66-37e4bdd61365>\u001b[0m in \u001b[0;36mmain\u001b[0;34m()\u001b[0m\n\u001b[1;32m     21\u001b[0m \u001b[0;34m\u001b[0m\u001b[0m\n\u001b[1;32m     22\u001b[0m     \u001b[0mprint\u001b[0m \u001b[0;34m(\u001b[0m\u001b[0;34m\"=== print normal function in loop ===\"\u001b[0m\u001b[0;34m)\u001b[0m\u001b[0;34m\u001b[0m\u001b[0m\n\u001b[0;32m---> 23\u001b[0;31m     \u001b[0;32mfor\u001b[0m \u001b[0mn\u001b[0m \u001b[0;32min\u001b[0m \u001b[0mnormal\u001b[0m\u001b[0;34m(\u001b[0m\u001b[0;34m)\u001b[0m\u001b[0;34m:\u001b[0m\u001b[0;34m\u001b[0m\u001b[0m\n\u001b[0m\u001b[1;32m     24\u001b[0m         \u001b[0mprint\u001b[0m \u001b[0;34m(\u001b[0m\u001b[0mn\u001b[0m\u001b[0;34m)\u001b[0m\u001b[0;34m\u001b[0m\u001b[0m\n\u001b[1;32m     25\u001b[0m \u001b[0;34m\u001b[0m\u001b[0m\n",
      "\u001b[0;31mTypeError\u001b[0m: 'int' object is not iterable"
     ]
    }
   ],
   "source": [
    "def gen():\n",
    "    yield 1\n",
    "    yield 2\n",
    "    yield 3\n",
    "\n",
    "def normal():\n",
    "    return 1\n",
    "    return 2\n",
    "    return 3\n",
    "\n",
    "def main():\n",
    "    print (\"=== print gen function ===\")\n",
    "    print (gen())\n",
    "\n",
    "    print (\"=== print normal function===\")\n",
    "    print (normal())\n",
    "\n",
    "    print (\"=== print gen function in loop ===\")\n",
    "    for g in gen():\n",
    "        print (g)\n",
    "\n",
    "    print (\"=== print normal function in loop ===\")\n",
    "    for n in normal():\n",
    "        print (n)\n",
    "\n",
    "\n",
    "\n",
    "main()"
   ]
  },
  {
   "cell_type": "code",
   "execution_count": 68,
   "metadata": {},
   "outputs": [
    {
     "name": "stdout",
     "output_type": "stream",
     "text": [
      "=== print gen function ===\n",
      "1\n",
      "2\n",
      "10\n",
      "5\n",
      "None\n"
     ]
    }
   ],
   "source": [
    "def gen():\n",
    "    value = 1\n",
    "    while True:\n",
    "        value = yield value\n",
    "\n",
    "def main():\n",
    "    print (\"=== print gen function ===\")\n",
    "    g = gen()\n",
    "\n",
    "    print (next(g))\n",
    "    print (g.send(2))\n",
    "    print (g.send(10))\n",
    "    print (g.send(5))\n",
    "    print (next(g))\n",
    "\n",
    "\n",
    "if __name__ == \"__main__\":\n",
    "    main()"
   ]
  },
  {
   "cell_type": "markdown",
   "metadata": {},
   "source": [
    "## Stateful generator"
   ]
  },
  {
   "cell_type": "code",
   "execution_count": 69,
   "metadata": {},
   "outputs": [
    {
     "name": "stdout",
     "output_type": "stream",
     "text": [
      "=== print gen ===\n",
      "0\n",
      "1\n",
      "2\n",
      "3\n",
      "4\n",
      "5\n",
      "6\n",
      "7\n",
      "8\n",
      "9\n"
     ]
    }
   ],
   "source": [
    "def gen(items):\n",
    "    count = 0\n",
    "\n",
    "    for item in items:\n",
    "        if count == 10:\n",
    "            return -1\n",
    "\n",
    "        count += 1\n",
    "        yield item\n",
    "\n",
    "\n",
    "if __name__ == \"__main__\":\n",
    "    print (\"=== print gen ===\")\n",
    "    for i in gen(range(15)):\n",
    "        print (i)"
   ]
  },
  {
   "cell_type": "markdown",
   "metadata": {},
   "source": [
    "## Generator expression"
   ]
  },
  {
   "cell_type": "code",
   "execution_count": 101,
   "metadata": {},
   "outputs": [
    {
     "name": "stdout",
     "output_type": "stream",
     "text": [
      "=== print list ===\n",
      "<generator object generate_sample_list.<locals>.<genexpr> at 0x7f9621f57f10>\n",
      "1\n",
      "4\n",
      "9\n",
      "16\n",
      "25\n",
      "<generator object generate_list_by_range.<locals>.<genexpr> at 0x7f9621f57f10>\n",
      "0\n",
      "1\n",
      "2\n",
      "3\n",
      "4\n",
      "5\n",
      "6\n",
      "7\n",
      "8\n",
      "9\n"
     ]
    }
   ],
   "source": [
    "SAMPLE_LIST = [1, 2, 3, 4, 5]\n",
    "\n",
    "def generate_sample_list():\n",
    "    result = (x*x for x in SAMPLE_LIST)\n",
    "    print (result)\n",
    "    return result\n",
    "\n",
    "def generate_list_by_range():\n",
    "    result = (i for i in range(10))\n",
    "    print (result)\n",
    "    return result\n",
    "\n",
    "def print_generator(items):\n",
    "    for item in items:\n",
    "        print (item)\n",
    "\n",
    "def main():\n",
    "    print (\"=== print list ===\")\n",
    "    print_generator(generate_sample_list())\n",
    "    print_generator(generate_list_by_range())\n",
    "\n",
    "\n",
    "if __name__ == \"__main__\":\n",
    "    main()"
   ]
  },
  {
   "cell_type": "markdown",
   "metadata": {},
   "source": [
    "## Lazy evaluation"
   ]
  },
  {
   "cell_type": "code",
   "execution_count": 104,
   "metadata": {},
   "outputs": [
    {
     "name": "stdout",
     "output_type": "stream",
     "text": [
      "=== print list comprehension ===\n",
      "sleep\n",
      "sleep\n",
      "sleep\n",
      "sleep\n",
      "sleep\n",
      "sleep\n",
      "sleep\n",
      "sleep\n",
      "sleep\n",
      "sleep\n",
      "check [0, 1, 2, 3, 4, 5, 6, 7, 8, 9]\n",
      "0\n",
      "1\n",
      "2\n",
      "3\n",
      "4\n",
      "5\n",
      "6\n",
      "7\n",
      "8\n",
      "9\n",
      "=== print generator expression ===\n",
      "sleep\n",
      "0\n",
      "sleep\n",
      "1\n",
      "sleep\n",
      "2\n",
      "sleep\n",
      "3\n",
      "sleep\n",
      "4\n",
      "sleep\n",
      "5\n",
      "sleep\n",
      "6\n",
      "sleep\n",
      "7\n",
      "sleep\n",
      "8\n",
      "sleep\n",
      "9\n"
     ]
    }
   ],
   "source": [
    "import time\n",
    "\n",
    "def wait_return(num):\n",
    "    print (\"sleep\")\n",
    "    time.sleep(0.5)\n",
    "    return num\n",
    "\n",
    "def print_items(items):\n",
    "    for i in items:\n",
    "        print (i)\n",
    "\n",
    "def main():\n",
    "    print (\"=== print list comprehension ===\")\n",
    "    iterator_list = [wait_return(i) for i in range(10)]\n",
    "    print(\"check\", iterator_list)\n",
    "    print_items(iterator_list)\n",
    "\n",
    "    print (\"=== print generator expression ===\")\n",
    "    iterator_list = (wait_return(i) for i in range(10))\n",
    "    print_items(iterator_list)\n",
    "\n",
    "\n",
    "if __name__ == \"__main__\":\n",
    "    main()"
   ]
  }
 ],
 "metadata": {
  "kernelspec": {
   "display_name": "Python 3",
   "language": "python",
   "name": "python3"
  },
  "language_info": {
   "codemirror_mode": {
    "name": "ipython",
    "version": 3
   },
   "file_extension": ".py",
   "mimetype": "text/x-python",
   "name": "python",
   "nbconvert_exporter": "python",
   "pygments_lexer": "ipython3",
   "version": "3.6.6"
  }
 },
 "nbformat": 4,
 "nbformat_minor": 2
}
